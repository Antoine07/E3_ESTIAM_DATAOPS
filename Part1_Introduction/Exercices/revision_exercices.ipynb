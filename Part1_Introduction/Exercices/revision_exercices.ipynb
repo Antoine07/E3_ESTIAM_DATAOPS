{
 "cells": [
  {
   "cell_type": "code",
   "execution_count": 64,
   "metadata": {},
   "outputs": [
    {
     "name": "stdout",
     "output_type": "stream",
     "text": [
      "The Zen of Python, by Tim Peters\n",
      "\n",
      "Beautiful is better than ugly.\n",
      "Explicit is better than implicit.\n",
      "Simple is better than complex.\n",
      "Complex is better than complicated.\n",
      "Flat is better than nested.\n",
      "Sparse is better than dense.\n",
      "Readability counts.\n",
      "Special cases aren't special enough to break the rules.\n",
      "Although practicality beats purity.\n",
      "Errors should never pass silently.\n",
      "Unless explicitly silenced.\n",
      "In the face of ambiguity, refuse the temptation to guess.\n",
      "There should be one-- and preferably only one --obvious way to do it.\n",
      "Although that way may not be obvious at first unless you're Dutch.\n",
      "Now is better than never.\n",
      "Although never is often better than *right* now.\n",
      "If the implementation is hard to explain, it's a bad idea.\n",
      "If the implementation is easy to explain, it may be a good idea.\n",
      "Namespaces are one honking great idea -- let's do more of those!\n"
     ]
    }
   ],
   "source": [
    "import random as r\n",
    "\n",
    "import this"
   ]
  },
  {
   "cell_type": "code",
   "execution_count": 2,
   "metadata": {},
   "outputs": [
    {
     "name": "stdout",
     "output_type": "stream",
     "text": [
      "hello\n"
     ]
    }
   ],
   "source": [
    "print(\"hello\")"
   ]
  },
  {
   "cell_type": "code",
   "execution_count": 3,
   "metadata": {},
   "outputs": [
    {
     "name": "stdout",
     "output_type": "stream",
     "text": [
      "22\n",
      "101\n"
     ]
    }
   ],
   "source": [
    "\"\"\"\n",
    "LEG Builtins les fonctions définies dans Python\n",
    "\"\"\"\n",
    "\n",
    "# G espace global\n",
    "a = 101\n",
    "b = 22\n",
    "# print = 100 est définie dans les Builtins de Python \n",
    "\n",
    "def foo():\n",
    "    # b = 1\n",
    "    # E englobant puis il remonte\n",
    "    def baz():\n",
    "        # Python b regarde localement L\n",
    "        # b = 100 portée locale\n",
    "        print(b)\n",
    "        print(a)\n",
    "\n",
    "    baz()\n",
    "\n",
    "foo()"
   ]
  },
  {
   "cell_type": "code",
   "execution_count": 6,
   "metadata": {},
   "outputs": [
    {
     "name": "stdout",
     "output_type": "stream",
     "text": [
      "1 2\n"
     ]
    }
   ],
   "source": [
    "# Avec des tuples vous pouvez affecter des valeurs x, y comme suit \n",
    "x, y = 1, 2\n",
    "\n",
    "print(x, y)"
   ]
  },
  {
   "cell_type": "code",
   "execution_count": 7,
   "metadata": {},
   "outputs": [
    {
     "data": {
      "text/plain": [
       "'\\nCréez une fonction permute et qui permute a, b, c de manière circulaire \\n\\na <- b\\nb <- c\\nc <- a\\n\\n'"
      ]
     },
     "execution_count": 7,
     "metadata": {},
     "output_type": "execute_result"
    }
   ],
   "source": [
    "# 1 Exercice\n",
    "\"\"\"\n",
    "Créez une fonction permute et qui permute a, b, c de manière circulaire \n",
    "\n",
    "a <- b\n",
    "b <- c\n",
    "c <- a\n",
    "\n",
    "\"\"\"\n",
    "\n"
   ]
  },
  {
   "cell_type": "code",
   "execution_count": 9,
   "metadata": {},
   "outputs": [
    {
     "name": "stdout",
     "output_type": "stream",
     "text": [
      "(2, 3, 1)\n"
     ]
    }
   ],
   "source": [
    "def permute(a,b,c):\n",
    "    return b, c, a\n",
    "\n",
    "a, b, c = 1, 2, 3\n",
    "\n",
    "print( permute(a, b, c) )"
   ]
  },
  {
   "cell_type": "code",
   "execution_count": 12,
   "metadata": {},
   "outputs": [
    {
     "name": "stdout",
     "output_type": "stream",
     "text": [
      "(2, 3, 1)\n",
      "(3, 1, 2)\n"
     ]
    }
   ],
   "source": [
    "# Variables nommées \n",
    "print( permute(b = 2, c = 3, a = 1) )\n",
    "\n",
    "# Là c'est différent car la place des variables est respectée en fonction de l'ordre de celle-ci\n",
    "print( permute(2,  3,  1) )"
   ]
  },
  {
   "cell_type": "code",
   "execution_count": 14,
   "metadata": {},
   "outputs": [
    {
     "name": "stdout",
     "output_type": "stream",
     "text": [
      "(1, 2, 3, 4)\n"
     ]
    }
   ],
   "source": [
    "# * unpacking en tuple dans les paramètres \n",
    "def g(*t):\n",
    "\treturn t\n",
    "\n",
    "print( g(1,2,3,4) )"
   ]
  },
  {
   "cell_type": "code",
   "execution_count": 17,
   "metadata": {},
   "outputs": [
    {
     "name": "stdout",
     "output_type": "stream",
     "text": [
      "{'a': 1, 'b': 2, 'c': 3}\n"
     ]
    }
   ],
   "source": [
    "# ** unpacking en dictionnaire dans les paramètres \n",
    "def h(**t):\n",
    "\treturn t\n",
    "\n",
    "print( h(a = 1, b = 2, c = 3) )"
   ]
  },
  {
   "cell_type": "code",
   "execution_count": 1,
   "metadata": {},
   "outputs": [
    {
     "data": {
      "text/plain": [
       "'\\nExerice \\n\\nCréez une fonction qui permet de permuter une liste de 3 éléments\\n\\nEssayez de généraliser cette approche pour N valeurs \\n'"
      ]
     },
     "execution_count": 1,
     "metadata": {},
     "output_type": "execute_result"
    }
   ],
   "source": [
    "\"\"\"\n",
    "2 Exerice \n",
    "\n",
    "1. Créez une fonction qui permet de permuter une liste de 3 éléments dans une autre liste \n",
    "\n",
    "2. Essayez de généraliser cette approche pour N valeurs \n",
    "\"\"\""
   ]
  },
  {
   "cell_type": "code",
   "execution_count": 9,
   "metadata": {},
   "outputs": [],
   "source": [
    "def permuteListe1(l):\n",
    "    \n",
    "    assert len(l) == 3\n",
    "    \n",
    "    return [ l[2], l[1], l[0] ]"
   ]
  },
  {
   "cell_type": "code",
   "execution_count": 10,
   "metadata": {},
   "outputs": [
    {
     "data": {
      "text/plain": [
       "[3, 2, 1]"
      ]
     },
     "execution_count": 10,
     "metadata": {},
     "output_type": "execute_result"
    }
   ],
   "source": [
    "permuteListe1([1,2,3])\n",
    "\n",
    "# Test de l'assert pour éviter les problèmes\n",
    "# permuteListe([1,2,7,8])"
   ]
  },
  {
   "cell_type": "code",
   "execution_count": 14,
   "metadata": {},
   "outputs": [],
   "source": [
    "def permuteListe2(l):\n",
    "    dim = len(l)\n",
    "    res = []\n",
    "    \n",
    "    assert dim > 0\n",
    "    \n",
    "    for i in range(0, dim):\n",
    "        res.append( l[dim - (1 + i ) ])\n",
    "    \n",
    "    return res"
   ]
  },
  {
   "cell_type": "code",
   "execution_count": 16,
   "metadata": {},
   "outputs": [
    {
     "data": {
      "text/plain": [
       "[8, 7, 2, 1]"
      ]
     },
     "execution_count": 16,
     "metadata": {},
     "output_type": "execute_result"
    }
   ],
   "source": [
    "permuteListe2([1,2,7,8])"
   ]
  },
  {
   "cell_type": "code",
   "execution_count": 17,
   "metadata": {},
   "outputs": [],
   "source": [
    "def permuteListe3(l):\n",
    "    dim = len(l)\n",
    "    res = []\n",
    "    \n",
    "    assert dim > 0\n",
    "    \n",
    "    return [ l[dim - (1 + i ) ] for i in range(0, dim)]"
   ]
  },
  {
   "cell_type": "code",
   "execution_count": 19,
   "metadata": {},
   "outputs": [
    {
     "data": {
      "text/plain": [
       "[8, 7, 2, 1]"
      ]
     },
     "execution_count": 19,
     "metadata": {},
     "output_type": "execute_result"
    }
   ],
   "source": [
    "permuteListe3([1,2,7,8])"
   ]
  },
  {
   "cell_type": "code",
   "execution_count": 44,
   "metadata": {},
   "outputs": [
    {
     "data": {
      "text/plain": [
       "[8, 7, 2, 1]"
      ]
     },
     "execution_count": 44,
     "metadata": {},
     "output_type": "execute_result"
    }
   ],
   "source": [
    "l = [1,2,7,8]\n",
    "dim = len(l)\n",
    "\n",
    "# l[start:end:step]\n",
    "l[0::2]\n",
    "\n",
    "# en jouant sur le step on peut inverser la liste \n",
    "l[::-1]"
   ]
  },
  {
   "cell_type": "code",
   "execution_count": 49,
   "metadata": {},
   "outputs": [
    {
     "name": "stdout",
     "output_type": "stream",
     "text": [
      "[1, 2]\n",
      "{'a': 1, 'b': 2}\n",
      "(1, 2)\n",
      "{1, 2, 3}\n"
     ]
    }
   ],
   "source": [
    "# structure de données\n",
    "\n",
    "# liste\n",
    "l = [1, 2]\n",
    "\n",
    "print(l)\n",
    "\n",
    "# dictionnaire\n",
    "\n",
    "d = { 'a' : 1, 'b' : 2 }\n",
    "\n",
    "print(d)\n",
    "\n",
    "# tuple lecture seule on peut pas les modifier \n",
    "\n",
    "t = (1, 2)\n",
    "# t [0] = 3 lecture seule\n",
    "print(t)\n",
    "\n",
    "# ensemble en lecture et valeur unique à l'intérieur \n",
    "e = { 1, 2, 3 }\n",
    "print(e)\n",
    "\n",
    "# e[0]= 2 impossible lecture seule"
   ]
  },
  {
   "cell_type": "code",
   "execution_count": 51,
   "metadata": {},
   "outputs": [
    {
     "name": "stdout",
     "output_type": "stream",
     "text": [
      "[18, 2, 4]\n",
      "[18, 2, 4]\n"
     ]
    }
   ],
   "source": [
    "# pas de copie pour les objets assignés \n",
    "\n",
    "l = [1, 2, 4]\n",
    "\n",
    "m = l \n",
    "m[0] = 18\n",
    "\n",
    "print(m)\n",
    "print(l)"
   ]
  },
  {
   "cell_type": "code",
   "execution_count": 52,
   "metadata": {},
   "outputs": [
    {
     "data": {
      "text/plain": [
       "'\\n3 Exercice\\n\\nCréez un script qui permet de copier la liste l dans une autre liste indépendante \\n\\n'"
      ]
     },
     "execution_count": 52,
     "metadata": {},
     "output_type": "execute_result"
    }
   ],
   "source": [
    "\"\"\"\n",
    "3 Exercice\n",
    "\n",
    "Créez un script qui permet de copier la liste l dans une autre liste indépendante \n",
    "\n",
    "\"\"\""
   ]
  },
  {
   "cell_type": "code",
   "execution_count": 55,
   "metadata": {},
   "outputs": [
    {
     "name": "stdout",
     "output_type": "stream",
     "text": [
      "[18, 2, 4]\n",
      "[1, 2, 4]\n"
     ]
    }
   ],
   "source": [
    "l = [1, 2, 4]\n",
    "\n",
    "# copie peu profonde\n",
    "m = l[:]\n",
    "\n",
    "m[0] = 18\n",
    "\n",
    "print(m)\n",
    "print(l)"
   ]
  },
  {
   "cell_type": "code",
   "execution_count": 58,
   "metadata": {},
   "outputs": [
    {
     "name": "stdout",
     "output_type": "stream",
     "text": [
      "[[1, 2], [3, 4]]\n",
      "[[1, 2], [3, 4]]\n"
     ]
    }
   ],
   "source": [
    "# référence dans une référence la shallow copy ne marche pas\n",
    "l = [[1,2], [3, 4]]\n",
    "\n",
    "# copie peut profonde\n",
    "m = l[:]\n",
    "\n",
    "print(m)\n",
    "print(l)\n"
   ]
  },
  {
   "cell_type": "code",
   "execution_count": 59,
   "metadata": {},
   "outputs": [
    {
     "name": "stdout",
     "output_type": "stream",
     "text": [
      "[[1, 2], [3, 4]]\n",
      "[[18, 2], [3, 4]]\n"
     ]
    }
   ],
   "source": [
    "# copie profonde \n",
    "m = [ n[:] for n in l ]\n",
    "\n",
    "m[0][0] = 18\n",
    "\n",
    "print(l)\n",
    "print(m)"
   ]
  },
  {
   "cell_type": "code",
   "execution_count": 61,
   "metadata": {},
   "outputs": [
    {
     "data": {
      "text/plain": [
       "list"
      ]
     },
     "execution_count": 61,
     "metadata": {},
     "output_type": "execute_result"
    }
   ],
   "source": [
    "type(m)"
   ]
  },
  {
   "cell_type": "code",
   "execution_count": 81,
   "metadata": {},
   "outputs": [
    {
     "data": {
      "text/plain": [
       "99"
      ]
     },
     "execution_count": 81,
     "metadata": {},
     "output_type": "execute_result"
    }
   ],
   "source": [
    "# 01 Exercice \n",
    "\n",
    "def maxList(l):\n",
    "    assert len(l) > 0\n",
    "    \n",
    "    c = l[0]\n",
    "    \n",
    "    for e in l[1:]:\n",
    "        if e > c:\n",
    "            c = e\n",
    "            \n",
    "    return c\n",
    "\n",
    "# voir tous les éléments du module\n",
    "# dir(r)\n",
    "matrix = [ r.randint(0, 100) for _ in range(100)]\n",
    "matrix\n",
    "\n",
    "r.shuffle(matrix)\n",
    "\n",
    "maxList(matrix)"
   ]
  },
  {
   "cell_type": "code",
   "execution_count": 84,
   "metadata": {},
   "outputs": [
    {
     "data": {
      "text/plain": [
       "True"
      ]
     },
     "execution_count": 84,
     "metadata": {},
     "output_type": "execute_result"
    }
   ],
   "source": [
    "# 02 Exercice\n",
    "letters = ['A', 'B', 'C' , 'D']\n",
    "all( letter.isupper() for letter in letters) "
   ]
  }
 ],
 "metadata": {
  "kernelspec": {
   "display_name": "Python 3",
   "language": "python",
   "name": "python3"
  },
  "language_info": {
   "codemirror_mode": {
    "name": "ipython",
    "version": 3
   },
   "file_extension": ".py",
   "mimetype": "text/x-python",
   "name": "python",
   "nbconvert_exporter": "python",
   "pygments_lexer": "ipython3",
   "version": "3.8.3"
  }
 },
 "nbformat": 4,
 "nbformat_minor": 4
}
