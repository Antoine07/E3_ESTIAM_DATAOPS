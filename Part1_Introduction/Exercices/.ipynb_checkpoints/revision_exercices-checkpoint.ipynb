{
 "cells": [
  {
   "cell_type": "code",
   "execution_count": 1,
   "metadata": {},
   "outputs": [
    {
     "name": "stdout",
     "output_type": "stream",
     "text": [
      "The Zen of Python, by Tim Peters\n",
      "\n",
      "Beautiful is better than ugly.\n",
      "Explicit is better than implicit.\n",
      "Simple is better than complex.\n",
      "Complex is better than complicated.\n",
      "Flat is better than nested.\n",
      "Sparse is better than dense.\n",
      "Readability counts.\n",
      "Special cases aren't special enough to break the rules.\n",
      "Although practicality beats purity.\n",
      "Errors should never pass silently.\n",
      "Unless explicitly silenced.\n",
      "In the face of ambiguity, refuse the temptation to guess.\n",
      "There should be one-- and preferably only one --obvious way to do it.\n",
      "Although that way may not be obvious at first unless you're Dutch.\n",
      "Now is better than never.\n",
      "Although never is often better than *right* now.\n",
      "If the implementation is hard to explain, it's a bad idea.\n",
      "If the implementation is easy to explain, it may be a good idea.\n",
      "Namespaces are one honking great idea -- let's do more of those!\n"
     ]
    }
   ],
   "source": [
    "import this"
   ]
  },
  {
   "cell_type": "code",
   "execution_count": 2,
   "metadata": {},
   "outputs": [
    {
     "name": "stdout",
     "output_type": "stream",
     "text": [
      "hello\n"
     ]
    }
   ],
   "source": [
    "print(\"hello\")"
   ]
  },
  {
   "cell_type": "code",
   "execution_count": 3,
   "metadata": {},
   "outputs": [
    {
     "name": "stdout",
     "output_type": "stream",
     "text": [
      "22\n",
      "101\n"
     ]
    }
   ],
   "source": [
    "\"\"\"\n",
    "LEG Builtins les fonctions définies dans Python\n",
    "\"\"\"\n",
    "\n",
    "# G espace global\n",
    "a = 101\n",
    "b = 22\n",
    "# print = 100 est définie dans les Builtins de Python \n",
    "\n",
    "def foo():\n",
    "    # b = 1\n",
    "    # E englobant puis il remonte\n",
    "    def baz():\n",
    "        # Python b regarde localement L\n",
    "        # b = 100 portée locale\n",
    "        print(b)\n",
    "        print(a)\n",
    "\n",
    "    baz()\n",
    "\n",
    "foo()"
   ]
  },
  {
   "cell_type": "code",
   "execution_count": 6,
   "metadata": {},
   "outputs": [
    {
     "name": "stdout",
     "output_type": "stream",
     "text": [
      "1 2\n"
     ]
    }
   ],
   "source": [
    "# Avec des tuples vous pouvez affecter des valeurs x, y comme suit \n",
    "x, y = 1, 2\n",
    "\n",
    "print(x, y)"
   ]
  },
  {
   "cell_type": "code",
   "execution_count": 7,
   "metadata": {},
   "outputs": [
    {
     "data": {
      "text/plain": [
       "'\\nCréez une fonction permute et qui permute a, b, c de manière circulaire \\n\\na <- b\\nb <- c\\nc <- a\\n\\n'"
      ]
     },
     "execution_count": 7,
     "metadata": {},
     "output_type": "execute_result"
    }
   ],
   "source": [
    "# 1 Exercice\n",
    "\"\"\"\n",
    "Créez une fonction permute et qui permute a, b, c de manière circulaire \n",
    "\n",
    "a <- b\n",
    "b <- c\n",
    "c <- a\n",
    "\n",
    "\"\"\"\n",
    "\n"
   ]
  },
  {
   "cell_type": "code",
   "execution_count": 9,
   "metadata": {},
   "outputs": [
    {
     "name": "stdout",
     "output_type": "stream",
     "text": [
      "(2, 3, 1)\n"
     ]
    }
   ],
   "source": [
    "def permute(a,b,c):\n",
    "    return b, c, a\n",
    "\n",
    "a, b, c = 1, 2, 3\n",
    "\n",
    "print( permute(a, b, c) )"
   ]
  },
  {
   "cell_type": "code",
   "execution_count": 12,
   "metadata": {},
   "outputs": [
    {
     "name": "stdout",
     "output_type": "stream",
     "text": [
      "(2, 3, 1)\n",
      "(3, 1, 2)\n"
     ]
    }
   ],
   "source": [
    "# Variables nommées \n",
    "print( permute(b = 2, c = 3, a = 1) )\n",
    "\n",
    "# Là c'est différent car la place des variables est respectée en fonction de l'ordre de celle-ci\n",
    "print( permute(2,  3,  1) )"
   ]
  },
  {
   "cell_type": "code",
   "execution_count": 14,
   "metadata": {},
   "outputs": [
    {
     "name": "stdout",
     "output_type": "stream",
     "text": [
      "(1, 2, 3, 4)\n"
     ]
    }
   ],
   "source": [
    "# * unpacking en tuple dans les paramètres \n",
    "def g(*t):\n",
    "\treturn t\n",
    "\n",
    "print( g(1,2,3,4) )"
   ]
  },
  {
   "cell_type": "code",
   "execution_count": 17,
   "metadata": {},
   "outputs": [
    {
     "name": "stdout",
     "output_type": "stream",
     "text": [
      "{'a': 1, 'b': 2, 'c': 3}\n"
     ]
    }
   ],
   "source": [
    "# ** unpacking en dictionnaire dans les paramètres \n",
    "def h(**t):\n",
    "\treturn t\n",
    "\n",
    "print( h(a = 1, b = 2, c = 3) )"
   ]
  },
  {
   "cell_type": "code",
   "execution_count": 1,
   "metadata": {},
   "outputs": [
    {
     "data": {
      "text/plain": [
       "'\\nExerice \\n\\nCréez une fonction qui permet de permuter une liste de 3 éléments\\n\\nEssayez de généraliser cette approche pour N valeurs \\n'"
      ]
     },
     "execution_count": 1,
     "metadata": {},
     "output_type": "execute_result"
    }
   ],
   "source": [
    "\"\"\"\n",
    "Exerice \n",
    "\n",
    "Créez une fonction qui permet de permuter une liste de 3 éléments\n",
    "\n",
    "Essayez de généraliser cette approche pour N valeurs \n",
    "\"\"\""
   ]
  },
  {
   "cell_type": "code",
   "execution_count": 2,
   "metadata": {},
   "outputs": [],
   "source": [
    "def permuteListe(l):\n",
    "    \n",
    "    assert len(l) == 3\n",
    "    \n",
    "    return l[2], l[1], l[0]"
   ]
  },
  {
   "cell_type": "code",
   "execution_count": 3,
   "metadata": {},
   "outputs": [
    {
     "data": {
      "text/plain": [
       "(3, 2, 1)"
      ]
     },
     "execution_count": 3,
     "metadata": {},
     "output_type": "execute_result"
    }
   ],
   "source": [
    "permuteListe([1,2,3])"
   ]
  }
 ],
 "metadata": {
  "kernelspec": {
   "display_name": "Python 3",
   "language": "python",
   "name": "python3"
  },
  "language_info": {
   "codemirror_mode": {
    "name": "ipython",
    "version": 3
   },
   "file_extension": ".py",
   "mimetype": "text/x-python",
   "name": "python",
   "nbconvert_exporter": "python",
   "pygments_lexer": "ipython3",
   "version": "3.8.3"
  }
 },
 "nbformat": 4,
 "nbformat_minor": 4
}
